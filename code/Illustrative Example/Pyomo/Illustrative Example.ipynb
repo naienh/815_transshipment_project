{
 "cells": [
  {
   "cell_type": "markdown",
   "metadata": {},
   "source": [
    "# Import Packages"
   ]
  },
  {
   "cell_type": "code",
   "execution_count": 1,
   "metadata": {},
   "outputs": [],
   "source": [
    "import pyomo.environ as pe\n",
    "import matplotlib.pyplot as plt\n",
    "import networkx as nx\n",
    "from networkx.drawing.nx_agraph import write_dot, graphviz_layout\n",
    "model = pe.ConcreteModel(name='815Project')"
   ]
  },
  {
   "cell_type": "markdown",
   "metadata": {},
   "source": [
    "# Import Data"
   ]
  },
  {
   "cell_type": "code",
   "execution_count": 2,
   "metadata": {},
   "outputs": [],
   "source": [
    "data = pe.DataPortal()\n",
    "data.load(filename=\"./simpleexample.dat\")"
   ]
  },
  {
   "cell_type": "markdown",
   "metadata": {},
   "source": [
    "# Declare Sets"
   ]
  },
  {
   "cell_type": "code",
   "execution_count": 3,
   "metadata": {},
   "outputs": [],
   "source": [
    "# Total nodes\n",
    "model.N = pe.Set(initialize=data['N'])\n",
    "# total vehicles\n",
    "model.K = pe.Set(initialize=data['K'])\n",
    "# total requests\n",
    "model.R = pe.Set(initialize=data['R'])\n",
    "# transshipment node\n",
    "model.T = pe.Set(within=model.N,initialize=data['T'])"
   ]
  },
  {
   "cell_type": "markdown",
   "metadata": {},
   "source": [
    "# Initialize Parameters"
   ]
  },
  {
   "cell_type": "code",
   "execution_count": 4,
   "metadata": {},
   "outputs": [],
   "source": [
    "# load carrying capacity\n",
    "model.u = pe.Param(model.K,within=pe.NonNegativeReals,initialize=data['u'])\n",
    "# initial depot\n",
    "model.o = pe.Param(model.K,within=model.N,initialize=data['o'])\n",
    "# final depot\n",
    "model.o_ = pe.Param(model.K,within=model.N,initialize=data['o_'])\n",
    "# request quantity\n",
    "model.q = pe.Param(model.R,within=pe.NonNegativeReals,initialize=data['q'])\n",
    "# request pick up\n",
    "model.p = pe.Param(model.R,within=model.N,initialize=data['p'])\n",
    "# request drop pff\n",
    "model.d = pe.Param(model.R,within=model.N,initialize=data['d'])\n",
    "# transport cost\n",
    "model.c = pe.Param(model.N,model.N,model.K,within=pe.NonNegativeReals,initialize=0,mutable=True)"
   ]
  },
  {
   "cell_type": "code",
   "execution_count": 5,
   "metadata": {},
   "outputs": [],
   "source": [
    "# slight adjustments to cost\n",
    "data = pe.DataPortal()\n",
    "data.load(filename=\"./simpleexample.dat\",model=model)\n",
    "for index,value in data['c'].items():\n",
    "    model.c[index] = value\n",
    "# total arcs\n",
    "def arcs_rule(model,i,j):\n",
    "    return model.c[i,j,1].value > 0\n",
    "model.A = pe.Set(initialize=model.N*model.N, filter = arcs_rule)"
   ]
  },
  {
   "cell_type": "markdown",
   "metadata": {},
   "source": [
    "# Declare Variables"
   ]
  },
  {
   "cell_type": "code",
   "execution_count": 6,
   "metadata": {},
   "outputs": [],
   "source": [
    "# if a car K travels in arc A\n",
    "model.x = pe.Var(model.A,model.K,within=pe.Binary)\n",
    "# if a car K travels in arc A carries order R\n",
    "model.y = pe.Var(model.A,model.K,model.R,within=pe.Binary)"
   ]
  },
  {
   "cell_type": "markdown",
   "metadata": {},
   "source": [
    "# Write Constraints"
   ]
  },
  {
   "cell_type": "markdown",
   "metadata": {},
   "source": [
    "(1) enforce that each vehicle may initiate at most one route from its origin depot; constraints"
   ]
  },
  {
   "cell_type": "code",
   "execution_count": 7,
   "metadata": {},
   "outputs": [],
   "source": [
    "def one_car_start_rule(model,i,k):\n",
    "    if i == model.o[k]:\n",
    "        return sum(model.x[i,j,k] for j in model.N if (i,j) in model.A) <= 1\n",
    "    else:\n",
    "        return pe.Constraint.Skip\n",
    "model.one_car_start_con = pe.Constraint(model.N,model.K,rule=one_car_start_rule)"
   ]
  },
  {
   "cell_type": "markdown",
   "metadata": {},
   "source": [
    "(2) enforce that the same vehicle must end the route at its ﬁnal depot."
   ]
  },
  {
   "cell_type": "code",
   "execution_count": 8,
   "metadata": {},
   "outputs": [],
   "source": [
    "def end_at_final_rule(model,i,l,k):\n",
    "    if i == model.o[k] and l == model.o_[k]:\n",
    "        return sum(model.x[i,j,k] for j in model.N if (i,j) in model.A) \\\n",
    "                == sum(model.x[j,l,k] for j in model.N if (j,l) in model.A)\n",
    "    else:\n",
    "        return pe.Constraint.Skip\n",
    "model.end_at_final_con = pe.Constraint(model.N,model.N,model.K,rule=end_at_final_rule)"
   ]
  },
  {
   "cell_type": "markdown",
   "metadata": {},
   "source": [
    "(3) maintain ﬂow conservation of the vehicles through the nodes in the network."
   ]
  },
  {
   "cell_type": "code",
   "execution_count": 9,
   "metadata": {},
   "outputs": [],
   "source": [
    "def flow_conservation_rule(model,i,k):\n",
    "    if i != model.o[k] and i != model.o_[k]:\n",
    "        return sum(model.x[i,j,k] for j in model.N if (i,j) in model.A) \\\n",
    "                == sum(model.x[j,i,k] for j in model.N if (j,i) in model.A)\n",
    "    else:\n",
    "        return pe.Constraint.Skip\n",
    "model.flow_conservation_con = pe.Constraint(model.N,model.K,rule=flow_conservation_rule)"
   ]
  },
  {
   "cell_type": "markdown",
   "metadata": {},
   "source": [
    "(4) & (5) enforce all pickups and deliveries of the customer requests."
   ]
  },
  {
   "cell_type": "code",
   "execution_count": 10,
   "metadata": {},
   "outputs": [],
   "source": [
    "def pickup_request_rule(model,i,r):\n",
    "    if i == model.p[r]:\n",
    "        return sum(model.y[i,j,k,r] for k in model.K for j in model.N if (i,j) in model.A) == 1\n",
    "    else:\n",
    "        return pe.Constraint.Skip\n",
    "model.pickup_request_con = pe.Constraint(model.N,model.R,rule=pickup_request_rule)"
   ]
  },
  {
   "cell_type": "code",
   "execution_count": 11,
   "metadata": {},
   "outputs": [],
   "source": [
    "def deliver_request_rule(model,i,r):\n",
    "    if i == model.d[r]:\n",
    "        return sum(model.y[j,i,k,r] for k in model.K for j in model.N if (j,i) in model.A) == 1\n",
    "    else:\n",
    "        return pe.Constraint.Skip\n",
    "model.deliver_request_con = pe.Constraint(model.N,model.R,rule=deliver_request_rule)"
   ]
  },
  {
   "cell_type": "markdown",
   "metadata": {},
   "source": [
    "(6) maintain the request ﬂow conservation at the transshipment nodes allowing requests to switch from one vehicle to another while constraints"
   ]
  },
  {
   "cell_type": "markdown",
   "metadata": {},
   "source": [
    "**Special Note: Deviation (correction) from paper formulation**"
   ]
  },
  {
   "cell_type": "code",
   "execution_count": 12,
   "metadata": {},
   "outputs": [],
   "source": [
    "def trans_conservation_rule(model,i,r):\n",
    "    \n",
    "    how_many_package_to_be_dropped = 1 if i == model.d[r] else 0\n",
    "    how_many_package_to_be_picked = 1 if i == model.p[r] else 0\n",
    "    \n",
    "    return sum(model.y[i,j,k,r] for k in model.K for j in model.N if (i,j) in model.A) \\\n",
    "            + how_many_package_to_be_dropped \\\n",
    "            == sum(model.y[j,i,k,r] for k in model.K for j in model.N if (j,i) in model.A) \\\n",
    "            + how_many_package_to_be_picked\n",
    "model.trans_conservation_con = pe.Constraint(model.T,model.R,rule=trans_conservation_rule)"
   ]
  },
  {
   "cell_type": "markdown",
   "metadata": {},
   "source": [
    "(7) maintain the request ﬂow conservation at the non-transshipment nodes requiring that any vehicle bringing a request must also leave carrying the same request."
   ]
  },
  {
   "cell_type": "code",
   "execution_count": 13,
   "metadata": {},
   "outputs": [],
   "source": [
    "def request_conservation_rule(model,i,k,r):\n",
    "    if i not in model.T and i != model.p[r] and i != model.d[r]:\n",
    "        return sum(model.y[i,j,k,r] for j in model.N if (i,j) in model.A) \\\n",
    "                == sum(model.y[j,i,k,r] for j in model.N if (j,i) in model.A)\n",
    "    else:\n",
    "        return pe.Constraint.Skip\n",
    "model.request_conservation_con = pe.Constraint(model.N,model.K,model.R,rule=request_conservation_rule)"
   ]
  },
  {
   "cell_type": "markdown",
   "metadata": {},
   "source": [
    "(8) enforce a vehicle ﬂow on an arc if there is some request ﬂow in the same vehicle on the same arc."
   ]
  },
  {
   "cell_type": "code",
   "execution_count": 14,
   "metadata": {},
   "outputs": [],
   "source": [
    "def request_needs_car_rule(model,i,j,k,r):\n",
    "    return model.y[i,j,k,r] <= model.x[i,j,k]\n",
    "model.request_needs_car_con = pe.Constraint(model.A,model.K,model.R,rule=request_needs_car_rule)"
   ]
  },
  {
   "cell_type": "markdown",
   "metadata": {},
   "source": [
    "(9) ensure capacity of each vehicle on each arc of the network"
   ]
  },
  {
   "cell_type": "code",
   "execution_count": 15,
   "metadata": {},
   "outputs": [],
   "source": [
    "def capacity_rule(model,i,j,k):\n",
    "    return sum(model.q[r]*model.y[i,j,k,r] for r in model.R) <= model.u[k] * model.x[i,j,k]\n",
    "model.capacity_con = pe.Constraint(model.A,model.K,rule=capacity_rule)"
   ]
  },
  {
   "cell_type": "markdown",
   "metadata": {},
   "source": [
    "# Declare Objective"
   ]
  },
  {
   "cell_type": "code",
   "execution_count": 16,
   "metadata": {},
   "outputs": [],
   "source": [
    "model.obj = pe.Objective(expr=sum(model.c[i,j,k]*model.x[i,j,k] for i,j in model.A for k in model.K))"
   ]
  },
  {
   "cell_type": "code",
   "execution_count": 17,
   "metadata": {},
   "outputs": [],
   "source": [
    "opt = pe.SolverFactory('gurobi')"
   ]
  },
  {
   "cell_type": "code",
   "execution_count": 18,
   "metadata": {},
   "outputs": [
    {
     "name": "stdout",
     "output_type": "stream",
     "text": [
      "Academic license - for non-commercial use only\n",
      "Read LP format model from file /Users/naienh/Desktop/815/tmpo8fu6ole.pyomo.lp\n",
      "Reading time = 0.00 seconds\n",
      "x161: 230 rows, 161 columns, 729 nonzeros\n",
      "Changed value of parameter mipgap to 0.0\n",
      "   Prev: 0.0001  Min: 0.0  Max: 1e+100  Default: 0.0001\n",
      "Optimize a model with 230 rows, 161 columns and 729 nonzeros\n",
      "Variable types: 1 continuous, 160 integer (160 binary)\n",
      "Coefficient statistics:\n",
      "  Matrix range     [1e+00, 6e+00]\n",
      "  Objective range  [1e+00, 2e+01]\n",
      "  Bounds range     [1e+00, 1e+00]\n",
      "  RHS range        [1e+00, 1e+00]\n",
      "Found heuristic solution: objective 25.0000000\n",
      "Presolve removed 210 rows and 137 columns\n",
      "Presolve time: 0.00s\n",
      "Presolved: 20 rows, 24 columns, 80 nonzeros\n",
      "Found heuristic solution: objective 22.0000000\n",
      "Variable types: 0 continuous, 24 integer (24 binary)\n",
      "\n",
      "Root relaxation: objective 1.500000e+01, 14 iterations, 0.00 seconds\n",
      "\n",
      "    Nodes    |    Current Node    |     Objective Bounds      |     Work\n",
      " Expl Unexpl |  Obj  Depth IntInf | Incumbent    BestBd   Gap | It/Node Time\n",
      "\n",
      "*    0     0               0      15.0000000   15.00000  0.00%     -    0s\n",
      "\n",
      "Explored 0 nodes (14 simplex iterations) in 0.00 seconds\n",
      "Thread count was 12 (of 12 available processors)\n",
      "\n",
      "Solution count 3: 15 22 23 \n",
      "\n",
      "Optimal solution found (tolerance 0.00e+00)\n",
      "Best objective 1.500000000000e+01, best bound 1.500000000000e+01, gap 0.0000%\n"
     ]
    }
   ],
   "source": [
    "opt.solve(model,options={'mipgap':0},tee=True);"
   ]
  },
  {
   "cell_type": "code",
   "execution_count": 19,
   "metadata": {},
   "outputs": [],
   "source": [
    "collector_car = []\n",
    "for i in model.x:\n",
    "    if model.x[i] == 1:\n",
    "        collector_car.append(i[:-1])\n",
    "collector_car = sorted(collector_car,key=lambda x: x[0])"
   ]
  },
  {
   "cell_type": "code",
   "execution_count": 20,
   "metadata": {},
   "outputs": [],
   "source": [
    "collector_package = []\n",
    "for i in model.y:\n",
    "    if model.y[i] == 1:\n",
    "        collector_package.append(i[:-2])\n",
    "collector_package = sorted(collector_package,key=lambda x: x[0])"
   ]
  },
  {
   "cell_type": "markdown",
   "metadata": {},
   "source": [
    "# Let's plot the graph"
   ]
  },
  {
   "cell_type": "code",
   "execution_count": 21,
   "metadata": {},
   "outputs": [],
   "source": [
    "G = nx.MultiDiGraph()"
   ]
  },
  {
   "cell_type": "code",
   "execution_count": 22,
   "metadata": {},
   "outputs": [],
   "source": [
    "G.add_nodes_from(model.N)\n",
    "G.add_edges_from(collector_car);\n",
    "G.add_edges_from(collector_package);"
   ]
  },
  {
   "cell_type": "code",
   "execution_count": 23,
   "metadata": {},
   "outputs": [
    {
     "data": {
      "image/png": "[encoded data removed]",
      "text/plain": [
       "<Figure size 1152x648 with 1 Axes>"
      ]
     },
     "metadata": {},
     "output_type": "display_data"
    }
   ],
   "source": [
    "plt.figure(figsize=(16,9))\n",
    "nx.draw(G,pos=nx.spring_layout(G), with_labels=True, font_size=30,node_size=2000,font_color='w')\n",
    "plt.show()"
   ]
  },
  {
   "cell_type": "code",
   "execution_count": null,
   "metadata": {},
   "outputs": [],
   "source": []
  }
 ],
 "metadata": {
  "kernelspec": {
   "display_name": "Python 3",
   "language": "python",
   "name": "python3"
  },
  "language_info": {
   "codemirror_mode": {
    "name": "ipython",
    "version": 3
   },
   "file_extension": ".py",
   "mimetype": "text/x-python",
   "name": "python",
   "nbconvert_exporter": "python",
   "pygments_lexer": "ipython3",
   "version": "3.6.5"
  }
 },
 "nbformat": 4,
 "nbformat_minor": 2
}
