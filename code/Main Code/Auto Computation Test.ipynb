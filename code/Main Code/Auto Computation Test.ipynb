{
 "cells": [
  {
   "cell_type": "code",
   "execution_count": null,
   "metadata": {},
   "outputs": [],
   "source": [
    "# core\n",
    "from glob import glob\n",
    "import pickle\n",
    "import json\n",
    "import pyomo.environ as pe\n",
    "import os\n",
    "\n",
    "import plotly\n",
    "from plotly import tools\n",
    "import plotly.graph_objs as go\n",
    "import plotly.io as pio\n",
    "\n",
    "# user\n",
    "from utility.model import generate_model, get_statistics\n",
    "from utility.plot import generate_network, HiddenPrints\n",
    "\n",
    "plotly.offline.init_notebook_mode()"
   ]
  },
  {
   "cell_type": "markdown",
   "metadata": {},
   "source": [
    "# Cases to be solved"
   ]
  },
  {
   "cell_type": "code",
   "execution_count": null,
   "metadata": {},
   "outputs": [],
   "source": [
    "# list of files in the Li & Lim benchmark\n",
    "# https://www.sintef.no/projectweb/top/pdptw/li-lim-benchmark/\n",
    "file_list = sorted(glob('pdp_100/*.txt'))\n",
    "file_list = [os.path.split(file)[-1].replace('.txt','.dat') for file in file_list]\n",
    "print(file_list)\n",
    "print('\\nA total of {} datasets waiting to be solved'.format(len(file_list)))"
   ]
  },
  {
   "cell_type": "markdown",
   "metadata": {},
   "source": [
    "# Define function to compute a round of models"
   ]
  },
  {
   "cell_type": "code",
   "execution_count": null,
   "metadata": {},
   "outputs": [],
   "source": [
    "def compute_round(file_name):\n",
    "    # order: no TW, no/yes trans, yes TW, no/yes trans\n",
    "    fig_collector = []\n",
    "    stats_collector = []\n",
    "    for timewindow in [False, True]:\n",
    "        for iftrans in [False, True]:\n",
    "            with HiddenPrints():\n",
    "                model, location_data = generate_model(num_nodes=14,tw=timewindow,trans=iftrans,filename=file_name)\n",
    "            opt = pe.SolverFactory('gurobi')\n",
    "            results = opt.solve(model,options={'mipgap':0,'TimeLimit':1200},tee=True)\n",
    "            model.solutions.store_to(results)\n",
    "            stats = get_statistics(results)\n",
    "            stats_collector.append(stats)\n",
    "            fig = generate_network(model,location_data,timewindow,iftrans,file_name.replace('.dat',''))\n",
    "            fig_collector.append(fig)\n",
    "    return stats_collector, fig_collector"
   ]
  },
  {
   "cell_type": "code",
   "execution_count": null,
   "metadata": {
    "scrolled": true
   },
   "outputs": [],
   "source": [
    "master_collector = {}\n",
    "for file in file_list:\n",
    "    status, fig = compute_round(file)\n",
    "    master_collector[file] = {}\n",
    "    master_collector[file]['status'] = status\n",
    "    master_collector[file]['fig'] = fig\n",
    "    print('Processed',file)"
   ]
  },
  {
   "cell_type": "code",
   "execution_count": null,
   "metadata": {},
   "outputs": [],
   "source": [
    "master_status = {file:master_collector[file]['status'] for file in master_collector}"
   ]
  },
  {
   "cell_type": "code",
   "execution_count": null,
   "metadata": {},
   "outputs": [],
   "source": [
    "with open('master_status_reverse.json', 'w') as handle:\n",
    "    json.dump(master_status, handle)"
   ]
  },
  {
   "cell_type": "code",
   "execution_count": null,
   "metadata": {},
   "outputs": [],
   "source": [
    "with open('master_collector_reverse.pickle', 'wb') as handle:\n",
    "    pickle.dump(master_collector, handle,protocol=pickle.HIGHEST_PROTOCOL)"
   ]
  },
  {
   "cell_type": "code",
   "execution_count": null,
   "metadata": {
    "scrolled": false
   },
   "outputs": [],
   "source": [
    "plotly.offline.iplot(master_collector[file_list[3]]['fig'][-1])"
   ]
  }
 ],
 "metadata": {
  "kernelspec": {
   "display_name": "Python 3",
   "language": "python",
   "name": "python3"
  },
  "language_info": {
   "codemirror_mode": {
    "name": "ipython",
    "version": 3
   },
   "file_extension": ".py",
   "mimetype": "text/x-python",
   "name": "python",
   "nbconvert_exporter": "python",
   "pygments_lexer": "ipython3",
   "version": "3.6.5"
  }
 },
 "nbformat": 4,
 "nbformat_minor": 2
}
